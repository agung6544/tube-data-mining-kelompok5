{
  "cells": [
    {
      "cell_type": "markdown",
      "metadata": {},
      "source": [
        "# 🤖 Modeling Template\n",
        "Notebook ini digunakan untuk membangun dan mengevaluasi model Machine Learning/Data Mining.\n",
        "\n",
        "## Langkah yang disarankan:\n",
        "- Pisahkan data latih dan data uji\n",
        "- Latih model (misalnya: Decision Tree, Random Forest, SVM, dll.)\n",
        "- Evaluasi menggunakan metrik: accuracy, precision, recall, F1-score, ROC, confusion matrix"
      ]
    },
    {
      "cell_type": "code",
      "execution_count": 1,
      "id": "627a3b1a",
      "metadata": {},
      "outputs": [],
      "source": [
        "from mlxtend.frequent_patterns import apriori, association_rules\n",
        "from mlxtend.preprocessing import TransactionEncoder\n",
        "import matplotlib.pyplot as plt\n",
        "import networkx as nx\n",
        "from itertools import combinations\n",
        "from collections import Counter\n",
        "import seaborn as sns\n",
        "import ast\n",
        "import numpy as np\n"
      ]
    },
    {
      "cell_type": "code",
      "execution_count": null,
      "id": "1ce34072",
      "metadata": {},
      "outputs": [],
      "source": [
        "# Menjalankan algoritma Apriori pada data transaksi yang sudah di-one-hot encode\n",
        "# min_support=0.002 berarti hanya itemset yang muncul di minimal 0.2% dari total transaksi yang akan diambil\n",
        "# use_colnames=True agar hasilnya menampilkan nama item (produk) asli, bukan index kolom\n",
        "frequent_itemsets = apriori(df_encoded, min_support=0.002, use_colnames=True)\n",
        "\n",
        "# Menampilkan itemset-itemset yang memenuhi syarat minimum support\n",
        "print(\"Frequent Itemsets:\")\n",
        "print(frequent_itemsets)"
      ]
    },
    {
      "cell_type": "code",
      "execution_count": null,
      "id": "c9da4165",
      "metadata": {},
      "outputs": [
        {
          "name": "stdout",
          "output_type": "stream",
          "text": [
            "\n",
            "🔎 Semua Aturan (tanpa filter 1→1):\n",
            "       antecedents   consequents   support  confidence      lift\n",
            "0  (Air Freshener)  (Toothpaste)  0.002363    0.065157  0.918370\n",
            "1          (Apple)  (Toothpaste)  0.002368    0.066241  0.933649\n",
            "2      (BBQ Sauce)  (Toothpaste)  0.002231    0.061893  0.872361\n",
            "3     (Baby Wipes)  (Toothpaste)  0.002396    0.066195  0.932996\n",
            "4         (Banana)  (Toothpaste)  0.002313    0.063853  0.899980\n",
            "5    (Bath Towels)  (Toothpaste)  0.002276    0.063002  0.887986\n",
            "6           (Beef)  (Toothpaste)  0.002305    0.063778  0.898927\n",
            "7          (Bread)  (Toothpaste)  0.002272    0.063538  0.895548\n",
            "8          (Broom)  (Toothpaste)  0.002290    0.064008  0.902164\n",
            "9         (Butter)  (Toothpaste)  0.002241    0.062528  0.881308\n",
            "Jumlah total aturan: 80\n"
          ]
        }
      ],
      "source": [
        "# Menghasilkan aturan asosiasi dari frequent itemsets\n",
        "# Menggunakan metrik 'confidence' dan ambang batas minimum confidence sebesar 0.05 (5%)\n",
        "rules = association_rules(frequent_itemsets, metric='confidence', min_threshold=0.05)\n",
        "\n",
        "# Menambahkan kolom baru yang menunjukkan panjang (jumlah item) dari antecedents dan consequents\n",
        "# Gunanya untuk filter atau analisis lebih lanjut, misalnya mencari aturan 1 → 1\n",
        "rules['antecedent_len'] = rules['antecedents'].apply(lambda x: len(x))\n",
        "rules['consequent_len'] = rules['consequents'].apply(lambda x: len(x))\n",
        "\n",
        "# Menampilkan 10 aturan asosiasi pertama dengan kolom-kolom penting\n",
        "print(\"\\n🔎 Semua Aturan (tanpa filter 1→1):\")\n",
        "print(rules[['antecedents', 'consequents', 'support', 'confidence', 'lift']].head(10))\n",
        "\n",
        "# Menampilkan jumlah total aturan yang dihasilkan\n",
        "print(f\"Jumlah total aturan: {len(rules)}\")"
      ]
    },
    {
      "cell_type": "code",
      "execution_count": null,
      "id": "13e4183c",
      "metadata": {},
      "outputs": [
        {
          "name": "stdout",
          "output_type": "stream",
          "text": [
            "\n",
            "📌 Aturan 1 item → 1 item:\n",
            "         antecedents   consequents   support  confidence      lift\n",
            "0    (Air Freshener)  (Toothpaste)  0.002363    0.065157  0.918370\n",
            "1            (Apple)  (Toothpaste)  0.002368    0.066241  0.933649\n",
            "2        (BBQ Sauce)  (Toothpaste)  0.002231    0.061893  0.872361\n",
            "3       (Baby Wipes)  (Toothpaste)  0.002396    0.066195  0.932996\n",
            "4           (Banana)  (Toothpaste)  0.002313    0.063853  0.899980\n",
            "..               ...           ...       ...         ...       ...\n",
            "75            (Tuna)  (Toothpaste)  0.002303    0.064061  0.902919\n",
            "76  (Vacuum Cleaner)  (Toothpaste)  0.002227    0.061908  0.872564\n",
            "77         (Vinegar)  (Toothpaste)  0.002253    0.062903  0.886596\n",
            "78           (Water)  (Toothpaste)  0.002232    0.062582  0.882075\n",
            "79          (Yogurt)  (Toothpaste)  0.002323    0.064251  0.905596\n",
            "\n",
            "[80 rows x 5 columns]\n",
            "Jumlah aturan 1→1 ditemukan: 80\n"
          ]
        }
      ],
      "source": [
        "# Filter aturan asosiasi yang hanya terdiri dari 1 item di antecedent dan 1 item di consequent\n",
        "# Tujuannya untuk fokus pada aturan sederhana dan mudah diinterpretasikan\n",
        "rules_1to1 = rules[\n",
        "    (rules['antecedent_len'] == 1) &  # Hanya yang antecedent-nya 1 item\n",
        "    (rules['consequent_len'] == 1)   # Dan consequent-nya juga 1 item\n",
        "]\n",
        "\n",
        "# Menampilkan aturan-aturan hasil filter 1→1\n",
        "print(\"\\n📌 Aturan 1 item → 1 item:\")\n",
        "print(rules_1to1[['antecedents', 'consequents', 'support', 'confidence', 'lift']])\n",
        "\n",
        "# Menampilkan jumlah total aturan 1→1 yang ditemukan\n",
        "print(f\"Jumlah aturan 1→1 ditemukan: {len(rules_1to1)}\")\n"
      ]
    },
    {
      "cell_type": "code",
      "execution_count": null,
      "id": "78ea19bc",
      "metadata": {},
      "outputs": [
        {
          "name": "stdout",
          "output_type": "stream",
          "text": [
            "📊 Total Contribution Ratio (TCR):\n",
            "          product       TCR\n",
            "71       Tomatoes  0.066959\n",
            "46         Onions  0.066363\n",
            "14         Cheese  0.066324\n",
            "20      Deodorant  0.066294\n",
            "1           Apple  0.066241\n",
            "..            ...       ...\n",
            "55   Power Strips  0.061570\n",
            "64           Soda  0.061530\n",
            "15        Chicken  0.060993\n",
            "11        Carrots  0.060893\n",
            "60  Shaving Cream  0.060405\n",
            "\n",
            "[80 rows x 2 columns]\n"
          ]
        }
      ],
      "source": [
        "# Filter aturan asosiasi 1 → 1 (satu produk ke satu produk)\n",
        "rules_1to1 = rules[\n",
        "    (rules['antecedent_len'] == 1) &  # Antecedent hanya 1 item\n",
        "    (rules['consequent_len'] == 1)   # Consequent juga hanya 1 item\n",
        "]\n",
        "\n",
        "# Hitung TCR (Total Contribution Ratio)\n",
        "# TCR di sini adalah total nilai confidence dari semua aturan yang berasal dari produk tertentu sebagai antecedent\n",
        "# Langkah pertama: ambil nama produk dari set antecedent\n",
        "tcr = rules_1to1.groupby(rules_1to1['antecedents'].apply(lambda x: list(x)[0]))['confidence'].sum().reset_index()\n",
        "\n",
        "# Ganti nama kolom agar lebih deskriptif\n",
        "tcr.columns = ['product', 'TCR']\n",
        "\n",
        "# Urutkan dari produk dengan TCR tertinggi\n",
        "tcr = tcr.sort_values(by='TCR', ascending=False)\n",
        "\n",
        "# Tampilkan hasil TCR\n",
        "print(\"📊 Total Contribution Ratio (TCR):\")\n",
        "print(tcr)\n"
      ]
    },
    {
      "cell_type": "code",
      "execution_count": null,
      "id": "046a8cb4",
      "metadata": {},
      "outputs": [
        {
          "name": "stdout",
          "output_type": "stream",
          "text": [
            "📐 Adjacency Relation Chart (ARC):\n",
            "       antecedents consequents  confidence      lift\n",
            "0    Air Freshener  Toothpaste    0.065157  0.918370\n",
            "1            Apple  Toothpaste    0.066241  0.933649\n",
            "2        BBQ Sauce  Toothpaste    0.061893  0.872361\n",
            "3       Baby Wipes  Toothpaste    0.066195  0.932996\n",
            "4           Banana  Toothpaste    0.063853  0.899980\n",
            "..             ...         ...         ...       ...\n",
            "75            Tuna  Toothpaste    0.064061  0.902919\n",
            "76  Vacuum Cleaner  Toothpaste    0.061908  0.872564\n",
            "77         Vinegar  Toothpaste    0.062903  0.886596\n",
            "78           Water  Toothpaste    0.062582  0.882075\n",
            "79          Yogurt  Toothpaste    0.064251  0.905596\n",
            "\n",
            "[80 rows x 4 columns]\n"
          ]
        }
      ],
      "source": [
        "# Filter aturan 1→1 dengan kriteria kuat:\n",
        "# Confidence harus lebih dari 0.05 (5%) dan lift lebih dari 0.8\n",
        "# Artinya kita hanya ambil aturan yang cukup kuat dan memiliki asosiasi positif\n",
        "arc = rules_1to1[\n",
        "    (rules_1to1['confidence'] > 0.05) & \n",
        "    (rules_1to1['lift'] > 0.8)\n",
        "]\n",
        "\n",
        "# Ambil kolom penting saja untuk visualisasi atau analisis jaringan\n",
        "arc_chart = arc[['antecedents', 'consequents', 'confidence', 'lift']].copy()\n",
        "\n",
        "# Karena antecedents dan consequents masih dalam bentuk set, kita ambil elemen pertama (hanya satu karena aturan 1→1)\n",
        "arc_chart['antecedents'] = arc_chart['antecedents'].apply(lambda x: list(x)[0])\n",
        "arc_chart['consequents'] = arc_chart['consequents'].apply(lambda x: list(x)[0])\n",
        "\n",
        "# Tampilkan hasil tabel adjacency yang siap digunakan untuk visualisasi grafik jaringan (network chart)\n",
        "print(\"📐 Adjacency Relation Chart (ARC):\")\n",
        "print(arc_chart)\n"
      ]
    },
    {
      "cell_type": "markdown",
      "id": "9f47a580",
      "metadata": {},
      "source": [
        "🧠 Tahap Modeling – Langkah-Langkah\n",
        "1. Mencari Frequent Itemsets dengan Apriori\n",
        "- Menggunakan algoritma Apriori dari mlxtend untuk menemukan kombinasi produk yang sering dibeli bersamaan.\n",
        "- Ditetapkan nilai min_support = 0.002, artinya hanya itemset yang muncul di minimal 0.2% transaksi yang akan dipertimbangkan.\n",
        "\n",
        "2. Membangun Aturan Asosiasi (Association Rules)\n",
        "- Aturan dibentuk dari itemset menggunakan metrik confidence sebagai dasar, dengan min_threshold = 0.05 (5%).\n",
        "- Output berupa kombinasi antecedent → consequent dengan nilai support, confidence, dan lift.\n",
        "\n",
        "3. Menyaring Aturan 1 → 1\n",
        "- Diambil hanya aturan yang memiliki 1 produk di antecedent dan 1 produk di consequent, agar lebih mudah diinterpretasi dan lebih relevan untuk rekomendasi sederhana.\n",
        "\n",
        "4.  Menghitung Total Contribution Ratio (TCR)\n",
        "- TCR dihitung dengan menjumlahkan seluruh nilai confidence dari aturan yang memiliki produk tertentu sebagai antecedent.\n",
        "- Produk dengan TCR tinggi dianggap memiliki kontribusi besar dalam memicu pembelian produk lain.\n",
        "\n",
        "5. Membentuk Adjacency Relation Chart (ARC)\n",
        "- Disaring aturan 1→1 yang memiliki confidence > 0.05 dan lift > 0.8, menandakan hubungan yang kuat dan bermakna.\n",
        "- Format aturan diubah menjadi tabel adjacency (arah → antar produk) yang cocok digunakan untuk visualisasi graf jaringan."
      ]
    }
  ],
  "metadata": {
    "kernelspec": {
      "display_name": "Python 3",
      "language": "python",
      "name": "python3"
    },
    "language_info": {
      "codemirror_mode": {
        "name": "ipython",
        "version": 3
      },
      "file_extension": ".py",
      "mimetype": "text/x-python",
      "name": "python",
      "nbconvert_exporter": "python",
      "pygments_lexer": "ipython3",
      "version": "3.11.2"
    }
  },
  "nbformat": 4,
  "nbformat_minor": 5
}
