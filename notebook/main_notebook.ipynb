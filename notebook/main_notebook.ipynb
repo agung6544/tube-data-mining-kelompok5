{
 "cells": [
  {
   "cell_type": "markdown",
   "metadata": {},
   "source": [
    "# 🔁 Main Pipeline – Jupyter Notebook Version\n",
    "Notebook ini merupakan versi interaktif dari `main.py`, dan digunakan untuk menjalankan pipeline data mining end-to-end."
   ]
  },
  {
   "cell_type": "code",
   "execution_count": 7,
   "id": "ebecf7f3",
   "metadata": {},
   "outputs": [],
   "source": [
    "\n",
    "# Menambahkan path agar bisa mengimpor modul dari folder src/\n",
    "import sys\n",
    "sys.path.append(\"../notebook\")"
   ]
  },
  {
   "cell_type": "code",
   "execution_count": 11,
   "id": "ca347cad",
   "metadata": {},
   "outputs": [
    {
     "name": "stdout",
     "output_type": "stream",
     "text": [
      "Defaulting to user installation because normal site-packages is not writeable\n",
      "Requirement already satisfied: nbimporter in c:\\users\\qinth\\appdata\\roaming\\python\\python313\\site-packages (0.3.4)\n"
     ]
    },
    {
     "ename": "ImportError",
     "evalue": "cannot import name 'get_encoded_df' from 'preprocessing' (C:\\Users\\qinth\\AppData\\Roaming\\Python\\Python313\\site-packages\\preprocessing\\__init__.py)",
     "output_type": "error",
     "traceback": [
      "\u001b[31m---------------------------------------------------------------------------\u001b[39m",
      "\u001b[31mImportError\u001b[39m                               Traceback (most recent call last)",
      "\u001b[36mCell\u001b[39m\u001b[36m \u001b[39m\u001b[32mIn[11]\u001b[39m\u001b[32m, line 3\u001b[39m\n\u001b[32m      1\u001b[39m get_ipython().system(\u001b[33m'\u001b[39m\u001b[33mpip install nbimporter\u001b[39m\u001b[33m'\u001b[39m)\n\u001b[32m      2\u001b[39m \u001b[38;5;28;01mimport\u001b[39;00m\u001b[38;5;250m \u001b[39m\u001b[34;01mnbimporter\u001b[39;00m  \u001b[38;5;66;03m# noqa: F401\u001b[39;00m\n\u001b[32m----> \u001b[39m\u001b[32m3\u001b[39m \u001b[38;5;28;01mfrom\u001b[39;00m\u001b[38;5;250m \u001b[39m\u001b[34;01mpreprocessing\u001b[39;00m\u001b[38;5;250m \u001b[39m\u001b[38;5;28;01mimport\u001b[39;00m get_encoded_df\n\u001b[32m      4\u001b[39m \u001b[38;5;28;01mfrom\u001b[39;00m\u001b[38;5;250m \u001b[39m\u001b[34;01mmodelling\u001b[39;00m\u001b[38;5;250m \u001b[39m\u001b[38;5;28;01mimport\u001b[39;00m generate_rules, filter_rules_1to1, calculate_tcr, generate_arc_chart, print_rule_summary\n",
      "\u001b[31mImportError\u001b[39m: cannot import name 'get_encoded_df' from 'preprocessing' (C:\\Users\\qinth\\AppData\\Roaming\\Python\\Python313\\site-packages\\preprocessing\\__init__.py)"
     ]
    }
   ],
   "source": [
    "!pip install nbimporter\n",
    "import nbimporter  # noqa: F401\n",
    "from preprocessing import get_encoded_df\n",
    "from modelling import generate_rules, filter_rules_1to1, calculate_tcr, generate_arc_chart, print_rule_summary\n"
   ]
  }
 ],
 "metadata": {
  "kernelspec": {
   "display_name": "Python 3 (ipykernel)",
   "language": "python",
   "name": "python3"
  }
 },
 "nbformat": 4,
 "nbformat_minor": 5
}
